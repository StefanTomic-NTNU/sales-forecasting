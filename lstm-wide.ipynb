{
  "nbformat": 4,
  "nbformat_minor": 0,
  "metadata": {
    "colab": {
      "provenance": []
    },
    "kernelspec": {
      "name": "python3",
      "display_name": "Python 3"
    },
    "language_info": {
      "name": "python"
    },
    "gpuClass": "standard",
    "accelerator": "GPU"
  },
  "cells": [
    {
      "cell_type": "markdown",
      "source": [
        "# Retrieve Dataset"
      ],
      "metadata": {
        "id": "_pWuLRrQcvwB"
      }
    },
    {
      "cell_type": "code",
      "execution_count": null,
      "metadata": {
        "id": "2g37FD2u6q5H"
      },
      "outputs": [],
      "source": [
        "! pip install -q kaggle"
      ]
    },
    {
      "cell_type": "code",
      "source": [
        "from google.colab import files"
      ],
      "metadata": {
        "id": "X2Nq-ws16v5w"
      },
      "execution_count": null,
      "outputs": []
    },
    {
      "cell_type": "code",
      "source": [
        "files.upload()"
      ],
      "metadata": {
        "colab": {
          "base_uri": "https://localhost:8080/",
          "height": 90
        },
        "id": "sdGVe9qz7FMj",
        "outputId": "249072cd-fb95-47a9-906f-396eed33f2c6"
      },
      "execution_count": null,
      "outputs": [
        {
          "output_type": "display_data",
          "data": {
            "text/plain": [
              "<IPython.core.display.HTML object>"
            ],
            "text/html": [
              "\n",
              "     <input type=\"file\" id=\"files-ae4f65e7-d08f-44fd-9790-adfbbeb9cbea\" name=\"files[]\" multiple disabled\n",
              "        style=\"border:none\" />\n",
              "     <output id=\"result-ae4f65e7-d08f-44fd-9790-adfbbeb9cbea\">\n",
              "      Upload widget is only available when the cell has been executed in the\n",
              "      current browser session. Please rerun this cell to enable.\n",
              "      </output>\n",
              "      <script>// Copyright 2017 Google LLC\n",
              "//\n",
              "// Licensed under the Apache License, Version 2.0 (the \"License\");\n",
              "// you may not use this file except in compliance with the License.\n",
              "// You may obtain a copy of the License at\n",
              "//\n",
              "//      http://www.apache.org/licenses/LICENSE-2.0\n",
              "//\n",
              "// Unless required by applicable law or agreed to in writing, software\n",
              "// distributed under the License is distributed on an \"AS IS\" BASIS,\n",
              "// WITHOUT WARRANTIES OR CONDITIONS OF ANY KIND, either express or implied.\n",
              "// See the License for the specific language governing permissions and\n",
              "// limitations under the License.\n",
              "\n",
              "/**\n",
              " * @fileoverview Helpers for google.colab Python module.\n",
              " */\n",
              "(function(scope) {\n",
              "function span(text, styleAttributes = {}) {\n",
              "  const element = document.createElement('span');\n",
              "  element.textContent = text;\n",
              "  for (const key of Object.keys(styleAttributes)) {\n",
              "    element.style[key] = styleAttributes[key];\n",
              "  }\n",
              "  return element;\n",
              "}\n",
              "\n",
              "// Max number of bytes which will be uploaded at a time.\n",
              "const MAX_PAYLOAD_SIZE = 100 * 1024;\n",
              "\n",
              "function _uploadFiles(inputId, outputId) {\n",
              "  const steps = uploadFilesStep(inputId, outputId);\n",
              "  const outputElement = document.getElementById(outputId);\n",
              "  // Cache steps on the outputElement to make it available for the next call\n",
              "  // to uploadFilesContinue from Python.\n",
              "  outputElement.steps = steps;\n",
              "\n",
              "  return _uploadFilesContinue(outputId);\n",
              "}\n",
              "\n",
              "// This is roughly an async generator (not supported in the browser yet),\n",
              "// where there are multiple asynchronous steps and the Python side is going\n",
              "// to poll for completion of each step.\n",
              "// This uses a Promise to block the python side on completion of each step,\n",
              "// then passes the result of the previous step as the input to the next step.\n",
              "function _uploadFilesContinue(outputId) {\n",
              "  const outputElement = document.getElementById(outputId);\n",
              "  const steps = outputElement.steps;\n",
              "\n",
              "  const next = steps.next(outputElement.lastPromiseValue);\n",
              "  return Promise.resolve(next.value.promise).then((value) => {\n",
              "    // Cache the last promise value to make it available to the next\n",
              "    // step of the generator.\n",
              "    outputElement.lastPromiseValue = value;\n",
              "    return next.value.response;\n",
              "  });\n",
              "}\n",
              "\n",
              "/**\n",
              " * Generator function which is called between each async step of the upload\n",
              " * process.\n",
              " * @param {string} inputId Element ID of the input file picker element.\n",
              " * @param {string} outputId Element ID of the output display.\n",
              " * @return {!Iterable<!Object>} Iterable of next steps.\n",
              " */\n",
              "function* uploadFilesStep(inputId, outputId) {\n",
              "  const inputElement = document.getElementById(inputId);\n",
              "  inputElement.disabled = false;\n",
              "\n",
              "  const outputElement = document.getElementById(outputId);\n",
              "  outputElement.innerHTML = '';\n",
              "\n",
              "  const pickedPromise = new Promise((resolve) => {\n",
              "    inputElement.addEventListener('change', (e) => {\n",
              "      resolve(e.target.files);\n",
              "    });\n",
              "  });\n",
              "\n",
              "  const cancel = document.createElement('button');\n",
              "  inputElement.parentElement.appendChild(cancel);\n",
              "  cancel.textContent = 'Cancel upload';\n",
              "  const cancelPromise = new Promise((resolve) => {\n",
              "    cancel.onclick = () => {\n",
              "      resolve(null);\n",
              "    };\n",
              "  });\n",
              "\n",
              "  // Wait for the user to pick the files.\n",
              "  const files = yield {\n",
              "    promise: Promise.race([pickedPromise, cancelPromise]),\n",
              "    response: {\n",
              "      action: 'starting',\n",
              "    }\n",
              "  };\n",
              "\n",
              "  cancel.remove();\n",
              "\n",
              "  // Disable the input element since further picks are not allowed.\n",
              "  inputElement.disabled = true;\n",
              "\n",
              "  if (!files) {\n",
              "    return {\n",
              "      response: {\n",
              "        action: 'complete',\n",
              "      }\n",
              "    };\n",
              "  }\n",
              "\n",
              "  for (const file of files) {\n",
              "    const li = document.createElement('li');\n",
              "    li.append(span(file.name, {fontWeight: 'bold'}));\n",
              "    li.append(span(\n",
              "        `(${file.type || 'n/a'}) - ${file.size} bytes, ` +\n",
              "        `last modified: ${\n",
              "            file.lastModifiedDate ? file.lastModifiedDate.toLocaleDateString() :\n",
              "                                    'n/a'} - `));\n",
              "    const percent = span('0% done');\n",
              "    li.appendChild(percent);\n",
              "\n",
              "    outputElement.appendChild(li);\n",
              "\n",
              "    const fileDataPromise = new Promise((resolve) => {\n",
              "      const reader = new FileReader();\n",
              "      reader.onload = (e) => {\n",
              "        resolve(e.target.result);\n",
              "      };\n",
              "      reader.readAsArrayBuffer(file);\n",
              "    });\n",
              "    // Wait for the data to be ready.\n",
              "    let fileData = yield {\n",
              "      promise: fileDataPromise,\n",
              "      response: {\n",
              "        action: 'continue',\n",
              "      }\n",
              "    };\n",
              "\n",
              "    // Use a chunked sending to avoid message size limits. See b/62115660.\n",
              "    let position = 0;\n",
              "    do {\n",
              "      const length = Math.min(fileData.byteLength - position, MAX_PAYLOAD_SIZE);\n",
              "      const chunk = new Uint8Array(fileData, position, length);\n",
              "      position += length;\n",
              "\n",
              "      const base64 = btoa(String.fromCharCode.apply(null, chunk));\n",
              "      yield {\n",
              "        response: {\n",
              "          action: 'append',\n",
              "          file: file.name,\n",
              "          data: base64,\n",
              "        },\n",
              "      };\n",
              "\n",
              "      let percentDone = fileData.byteLength === 0 ?\n",
              "          100 :\n",
              "          Math.round((position / fileData.byteLength) * 100);\n",
              "      percent.textContent = `${percentDone}% done`;\n",
              "\n",
              "    } while (position < fileData.byteLength);\n",
              "  }\n",
              "\n",
              "  // All done.\n",
              "  yield {\n",
              "    response: {\n",
              "      action: 'complete',\n",
              "    }\n",
              "  };\n",
              "}\n",
              "\n",
              "scope.google = scope.google || {};\n",
              "scope.google.colab = scope.google.colab || {};\n",
              "scope.google.colab._files = {\n",
              "  _uploadFiles,\n",
              "  _uploadFilesContinue,\n",
              "};\n",
              "})(self);\n",
              "</script> "
            ]
          },
          "metadata": {}
        },
        {
          "output_type": "stream",
          "name": "stdout",
          "text": [
            "Saving kaggle.json to kaggle (1).json\n"
          ]
        },
        {
          "output_type": "execute_result",
          "data": {
            "text/plain": [
              "{'kaggle.json': b'{\"username\":\"stefanovski\",\"key\":\"7cc1fc34fbd4cde54785510fb03b40fe\"}'}"
            ]
          },
          "metadata": {},
          "execution_count": 61
        }
      ]
    },
    {
      "cell_type": "code",
      "source": [
        "! mkdir ~/.kaggle"
      ],
      "metadata": {
        "id": "1LCgmzCY67tB",
        "colab": {
          "base_uri": "https://localhost:8080/"
        },
        "outputId": "969066d0-1fa2-41a5-9cfb-62f4e0fd4d88"
      },
      "execution_count": null,
      "outputs": [
        {
          "output_type": "stream",
          "name": "stdout",
          "text": [
            "mkdir: cannot create directory ‘/root/.kaggle’: File exists\n"
          ]
        }
      ]
    },
    {
      "cell_type": "code",
      "source": [
        "! cp kaggle.json ~/.kaggle/"
      ],
      "metadata": {
        "id": "JubFBuP78IIt"
      },
      "execution_count": null,
      "outputs": []
    },
    {
      "cell_type": "code",
      "source": [
        "! chmod 600 ~/.kaggle/kaggle.json"
      ],
      "metadata": {
        "id": "S4kPxm1n8Txo"
      },
      "execution_count": null,
      "outputs": []
    },
    {
      "cell_type": "code",
      "source": [
        "! kaggle competitions download -c 'store-sales-time-series-forecasting'"
      ],
      "metadata": {
        "id": "VBssvHO38XAo",
        "outputId": "cfe251ec-1570-4c49-836d-aa39d590b373",
        "colab": {
          "base_uri": "https://localhost:8080/"
        }
      },
      "execution_count": null,
      "outputs": [
        {
          "output_type": "stream",
          "name": "stdout",
          "text": [
            "store-sales-time-series-forecasting.zip: Skipping, found more recently modified local copy (use --force to force download)\n"
          ]
        }
      ]
    },
    {
      "cell_type": "code",
      "source": [
        "! mkdir data"
      ],
      "metadata": {
        "id": "hURtcXOs8oms",
        "colab": {
          "base_uri": "https://localhost:8080/"
        },
        "outputId": "c87c76e5-8a39-4d0a-ab84-397db54a43be"
      },
      "execution_count": null,
      "outputs": [
        {
          "output_type": "stream",
          "name": "stdout",
          "text": [
            "mkdir: cannot create directory ‘data’: File exists\n"
          ]
        }
      ]
    },
    {
      "cell_type": "code",
      "source": [
        "! unzip store-sales-time-series-forecasting.zip -d data"
      ],
      "metadata": {
        "colab": {
          "base_uri": "https://localhost:8080/"
        },
        "id": "XSslccIo8wH2",
        "outputId": "2343ba12-63e5-4461-d94f-e7ede0db7d2b"
      },
      "execution_count": null,
      "outputs": [
        {
          "output_type": "stream",
          "name": "stdout",
          "text": [
            "Archive:  store-sales-time-series-forecasting.zip\n",
            "replace data/holidays_events.csv? [y]es, [n]o, [A]ll, [N]one, [r]ename: A\n",
            "  inflating: data/holidays_events.csv  \n",
            "  inflating: data/oil.csv            \n",
            "  inflating: data/sample_submission.csv  \n",
            "  inflating: data/stores.csv         \n",
            "  inflating: data/test.csv           \n",
            "  inflating: data/train.csv          \n",
            "  inflating: data/transactions.csv   \n"
          ]
        }
      ]
    },
    {
      "cell_type": "markdown",
      "source": [
        "# Read Data"
      ],
      "metadata": {
        "id": "3qBy2fJDcyHC"
      }
    },
    {
      "cell_type": "code",
      "source": [
        "import numpy as np\n",
        "import os\n",
        "import pandas as pd\n",
        "import datetime\n",
        "import torch\n",
        "import torch.nn as nn\n",
        "import tensorflow as tf\n",
        "from tensorflow import keras\n",
        "from torch.utils.data import Dataset, DataLoader\n",
        "import matplotlib.pyplot as plt\n",
        "import seaborn as sns\n",
        "from keras import backend\n",
        "from keras.utils import losses_utils\n",
        "from keras.losses import LossFunctionWrapper\n",
        "from keras.metrics import MeanMetricWrapper\n",
        "from keras.dtensor import utils as dtensor_utils"
      ],
      "metadata": {
        "id": "Bns-cSG3dQGL"
      },
      "execution_count": null,
      "outputs": []
    },
    {
      "cell_type": "code",
      "source": [
        "train = pd.read_csv('data/train.csv', parse_dates=[\"date\"])\n",
        "test = pd.read_csv('data/test.csv', parse_dates=[\"date\"])\n",
        "stores = pd.read_csv('data/stores.csv')\n",
        "oil = pd.read_csv('data/oil.csv', parse_dates=[\"date\"])\n",
        "holidays_events = pd.read_csv('data/holidays_events.csv', parse_dates=[\"date\"])\n",
        "transactions = pd.read_csv('data/transactions.csv', parse_dates=[\"date\"])"
      ],
      "metadata": {
        "id": "RjX7v0b9Y4l9"
      },
      "execution_count": null,
      "outputs": []
    },
    {
      "cell_type": "code",
      "source": [
        "train['family'] = pd.Categorical(train['family'])\n",
        "test['family'] = pd.Categorical(test['family'])\n",
        "stores['city'] = pd.Categorical(stores['city'])\n",
        "stores['state'] = pd.Categorical(stores['state'])\n",
        "stores['type'] = pd.Categorical(stores['type'])\n",
        "holidays_events['type'] = pd.Categorical(holidays_events['type'])\n",
        "holidays_events['locale'] = pd.Categorical(holidays_events['locale'])\n",
        "holidays_events['locale_name'] = pd.Categorical(holidays_events['locale_name'])"
      ],
      "metadata": {
        "id": "6uOo67NTTBcS"
      },
      "execution_count": null,
      "outputs": []
    },
    {
      "cell_type": "code",
      "source": [
        "split_set = train.pivot(index=train[['date', 'store_nbr']], columns='family', values=['sales', 'onpromotion']).unstack()"
      ],
      "metadata": {
        "id": "ZU5AunXUTNph"
      },
      "execution_count": null,
      "outputs": []
    },
    {
      "cell_type": "code",
      "source": [
        "# Flatten columns from 3 -> 1 layers\n",
        "new_store_nbr = split_set.columns.get_level_values('store_nbr').astype('str').unique()\n",
        "split_set.columns.set_levels(\n",
        "    [new_store_nbr],\n",
        "    level=['store_nbr'],\n",
        "    inplace=True\n",
        ")\n",
        "split_set.columns = ['_'.join(col).strip() for col in split_set.columns.values]"
      ],
      "metadata": {
        "colab": {
          "base_uri": "https://localhost:8080/"
        },
        "id": "wyzqrUr1dbnB",
        "outputId": "96f2b8ee-37b9-41c8-a923-42a7b9a573cc"
      },
      "execution_count": null,
      "outputs": [
        {
          "output_type": "stream",
          "name": "stderr",
          "text": [
            "<ipython-input-349-38cf1e3f939b>:3: FutureWarning: inplace is deprecated and will be removed in a future version.\n",
            "  split_set.columns.set_levels(\n"
          ]
        }
      ]
    },
    {
      "cell_type": "code",
      "source": [
        "split_set = split_set.dropna(axis='columns')"
      ],
      "metadata": {
        "id": "Yv_K8pV3fp86"
      },
      "execution_count": null,
      "outputs": []
    },
    {
      "cell_type": "code",
      "source": [
        "split_set.isna().sum().sum()"
      ],
      "metadata": {
        "colab": {
          "base_uri": "https://localhost:8080/"
        },
        "id": "QY7fvPSmfpG5",
        "outputId": "dd512740-fc4c-4259-a9a7-6f6f25725b77"
      },
      "execution_count": null,
      "outputs": [
        {
          "output_type": "execute_result",
          "data": {
            "text/plain": [
              "0"
            ]
          },
          "metadata": {},
          "execution_count": 351
        }
      ]
    },
    {
      "cell_type": "markdown",
      "source": [
        "## Split"
      ],
      "metadata": {
        "id": "Siq782-imH3a"
      }
    },
    {
      "cell_type": "code",
      "source": [
        "split = {\n",
        "    'train':      0.70,\n",
        "    'validation': 0.20,\n",
        "    'test':       0.10\n",
        "}\n",
        "dates = split_set.index.unique()\n",
        "date_length = len(dates)\n",
        "first_day = dates[0]\n",
        "# first_day = dates[365]  # Skip the first year\n",
        "date_length = len(dates)\n",
        "train_end = dates[int(date_length*split['train'])]\n",
        "val_end = dates[int(date_length*(split['train']+split['validation']))]\n",
        "last_day = dates[-1]"
      ],
      "metadata": {
        "id": "YdDZ3d7wrqaq"
      },
      "execution_count": null,
      "outputs": []
    },
    {
      "cell_type": "code",
      "source": [
        "train_df = split_set[first_day:train_end]\n",
        "val_df = split_set[train_end:val_end]\n",
        "test_df = split_set[val_end:last_day]"
      ],
      "metadata": {
        "id": "2MCfir6Mhmkt"
      },
      "execution_count": null,
      "outputs": []
    },
    {
      "cell_type": "code",
      "source": [
        "# Normalize data to prepare for tf. This should be changed to moving avg.\n",
        "train_mean = train_df.mean()\n",
        "train_std = train_df.std()\n",
        "zero_std = train_std.loc[train_std == 0]\n",
        "no_nan_mean = train_mean.drop(zero_std.index)\n",
        "no_nan_std = train_std.drop(zero_std.index)\n",
        "\n",
        "train_df = ((train_df.drop(zero_std.index, axis='columns') - no_nan_mean) / no_nan_std)\n",
        "val_df = ((val_df.drop(zero_std.index, axis='columns') - no_nan_mean) / no_nan_std)\n",
        "test_df = ((test_df.drop(zero_std.index, axis='columns') - no_nan_mean) / no_nan_std)\n",
        "# kaggle_df = (encoded_kaggle - train_mean) / train_std # We do not have access to test avg."
      ],
      "metadata": {
        "id": "qCNrFQTxjuZp"
      },
      "execution_count": null,
      "outputs": []
    },
    {
      "cell_type": "markdown",
      "source": [
        "## Windowing"
      ],
      "metadata": {
        "id": "Bf1NVo2PmCGq"
      }
    },
    {
      "cell_type": "code",
      "source": [
        "class WindowGenerator():\n",
        "  def __init__(self, input_width, label_width, shift,\n",
        "               train_df=train_df, val_df=val_df, test_df=test_df,\n",
        "               label_columns=None):\n",
        "    # Store the raw data.\n",
        "    self.train_df = train_df\n",
        "    self.val_df = val_df\n",
        "    self.test_df = test_df\n",
        "\n",
        "    # Work out the label column indices.\n",
        "    self.label_columns = label_columns\n",
        "    if label_columns is not None:\n",
        "      self.label_columns_indices = {name: i for i, name in\n",
        "                                    enumerate(label_columns)}\n",
        "    self.column_indices = {name: i for i, name in\n",
        "                           enumerate(train_df.columns)}\n",
        "\n",
        "    # Work out the window parameters.\n",
        "    self.input_width = input_width\n",
        "    self.label_width = label_width\n",
        "    self.shift = shift\n",
        "\n",
        "    self.total_window_size = input_width + shift\n",
        "\n",
        "    self.input_slice = slice(0, input_width)\n",
        "    self.input_indices = np.arange(self.total_window_size)[self.input_slice]\n",
        "\n",
        "    self.label_start = self.total_window_size - self.label_width\n",
        "    self.labels_slice = slice(self.label_start, None)\n",
        "    self.label_indices = np.arange(self.total_window_size)[self.labels_slice]\n",
        "\n",
        "  def __repr__(self):\n",
        "    return '\\n'.join([\n",
        "        f'Total window size: {self.total_window_size}',\n",
        "        f'Input indices: {self.input_indices}',\n",
        "        f'Label indices: {self.label_indices}',\n",
        "        f'Label column name(s): {self.label_columns}'])\n",
        "\n",
        "  def split_window(self, features):\n",
        "    inputs = features[:, self.input_slice, :]\n",
        "    labels = features[:, self.labels_slice, :]\n",
        "    if self.label_columns is not None:\n",
        "      labels = tf.stack(\n",
        "          [labels[:, :, self.column_indices[name]] for name in self.label_columns],\n",
        "          axis=-1)\n",
        "\n",
        "    # Slicing doesn't preserve static shape information, so set the shapes\n",
        "    # manually. This way the `tf.data.Datasets` are easier to inspect.\n",
        "    inputs.set_shape([None, self.input_width, None])\n",
        "    labels.set_shape([None, self.label_width, None])\n",
        "\n",
        "    return inputs, labels\n",
        "\n",
        "  def plot(self, model=None, plot_col='sales', max_subplots=3):\n",
        "    inputs, labels = self.example\n",
        "    plt.figure(figsize=(12, 8))\n",
        "    plot_col_index = self.column_indices[plot_col]\n",
        "    max_n = min(max_subplots, len(inputs))\n",
        "    for n in range(max_n):\n",
        "      plt.subplot(max_n, 1, n+1)\n",
        "      plt.ylabel(f'{plot_col} [normed]')\n",
        "      plt.plot(self.input_indices, inputs[n, :, plot_col_index],\n",
        "              label='Inputs', marker='.', zorder=-10)\n",
        "\n",
        "      if self.label_columns:\n",
        "        label_col_index = self.label_columns_indices.get(plot_col, None)\n",
        "      else:\n",
        "        label_col_index = plot_col_index\n",
        "\n",
        "      if label_col_index is None:\n",
        "        continue\n",
        "\n",
        "      plt.scatter(self.label_indices, labels[n, :, label_col_index],\n",
        "                  edgecolors='k', label='Labels', c='#2ca02c', s=64)\n",
        "      if model is not None:\n",
        "        predictions = model(inputs)\n",
        "        plt.scatter(self.label_indices, predictions[n, :, label_col_index],\n",
        "                    marker='X', edgecolors='k', label='Predictions',\n",
        "                    c='#ff7f0e', s=64)\n",
        "\n",
        "      if n == 0:\n",
        "        plt.legend()\n",
        "\n",
        "    plt.xlabel('date')\n",
        "\n",
        "  def make_dataset(self, data):\n",
        "    data = np.array(data, dtype=np.float32)\n",
        "    ds = tf.keras.utils.timeseries_dataset_from_array(\n",
        "        data=data,\n",
        "        targets=None,\n",
        "        sequence_length=self.total_window_size,\n",
        "        sequence_stride=1,\n",
        "        shuffle=True,\n",
        "        batch_size=32,)\n",
        "\n",
        "    ds = ds.map(self.split_window)\n",
        "\n",
        "    return ds\n",
        "\n",
        "  @property\n",
        "  def train(self):\n",
        "    return self.make_dataset(self.train_df)\n",
        "\n",
        "  @property\n",
        "  def val(self):\n",
        "    return self.make_dataset(self.val_df)\n",
        "\n",
        "  @property\n",
        "  def test(self):\n",
        "    return self.make_dataset(self.test_df)\n",
        "\n",
        "  @property\n",
        "  def example(self):\n",
        "    \"\"\"Get and cache an example batch of `inputs, labels` for plotting.\"\"\"\n",
        "    result = getattr(self, '_example', None)\n",
        "    if result is None:\n",
        "      # No example batch was found, so get one from the `.train` dataset\n",
        "      result = next(iter(self.train))\n",
        "      # And cache it for next time\n",
        "      self._example = result\n",
        "    return result\n"
      ],
      "metadata": {
        "id": "zjUPCU3Wly8t"
      },
      "execution_count": null,
      "outputs": []
    },
    {
      "cell_type": "markdown",
      "source": [
        "# Construct Model"
      ],
      "metadata": {
        "id": "Uhb7NRpcdID5"
      }
    },
    {
      "cell_type": "code",
      "source": [
        "def root_mean_squared_logarithmic_error(y_true, y_pred):\n",
        "  y_pred = tf.convert_to_tensor(y_pred)\n",
        "  y_true = tf.cast(y_true, y_pred.dtype)\n",
        "  first_log = tf.math.log(backend.maximum(y_pred, backend.epsilon()) + 1.0)\n",
        "  second_log = tf.math.log(backend.maximum(y_true, backend.epsilon()) + 1.0)\n",
        "  return tf.math.sqrt(backend.mean(\n",
        "      tf.math.squared_difference(first_log, second_log), axis=-1\n",
        "  ))"
      ],
      "metadata": {
        "id": "NBgdJu8itaGV"
      },
      "execution_count": null,
      "outputs": []
    },
    {
      "cell_type": "code",
      "source": [
        "class LOSS_RootMeanSquaredLogarithmicError(LossFunctionWrapper):\n",
        "    def __init__(\n",
        "        self,\n",
        "        reduction=losses_utils.ReductionV2.AUTO,\n",
        "        name=\"root_mean_squared_logarithmic_error\",\n",
        "    ):\n",
        "        super().__init__(\n",
        "            root_mean_squared_logarithmic_error, name=name, reduction=reduction\n",
        "        )\n",
        "\n",
        "class METRIC_RootMeanSquaredLogarithmicError(MeanMetricWrapper):\n",
        "    @dtensor_utils.inject_mesh\n",
        "    def __init__(self, name=\"root_mean_squared_logarithmic_error\", dtype=None):\n",
        "        super().__init__(root_mean_squared_logarithmic_error, name, dtype=dtype)\n"
      ],
      "metadata": {
        "id": "kIpFunSsuZDs"
      },
      "execution_count": null,
      "outputs": []
    },
    {
      "cell_type": "code",
      "source": [
        "# loss = tf.keras.losses.MeanSquaredLogarithmicError()\n",
        "# metric = tf.keras.metrics.MeanSquaredLogarithmicError()\n",
        "loss = LOSS_RootMeanSquaredLogarithmicError\n",
        "metric = METRIC_RootMeanSquaredLogarithmicError\n",
        "optimizer = tf.keras.optimizers.Adam\n",
        "MAX_EPOCHS = 4"
      ],
      "metadata": {
        "id": "nos5OtILrii7"
      },
      "execution_count": null,
      "outputs": []
    },
    {
      "cell_type": "code",
      "source": [
        "def compile_and_fit(model, window, patience=2):\n",
        "  early_stopping = tf.keras.callbacks.EarlyStopping(monitor='val_loss',\n",
        "                                                    patience=patience,\n",
        "                                                    mode='min')\n",
        "\n",
        "  model.compile(loss=loss(),\n",
        "                optimizer='adam',\n",
        "                metrics=[metric()])\n",
        "\n",
        "  history = model.fit(window.train, epochs=MAX_EPOCHS,\n",
        "                      validation_data=window.val,\n",
        "                      callbacks=[early_stopping])\n",
        "  return history"
      ],
      "metadata": {
        "id": "3FTeNc8Cy7AG"
      },
      "execution_count": null,
      "outputs": []
    },
    {
      "cell_type": "markdown",
      "source": [
        "# LSTM, Multi-Step"
      ],
      "metadata": {
        "id": "3UKk8LOaxbZG"
      }
    },
    {
      "cell_type": "code",
      "source": [
        "targets = [col for col in train_df.columns if 'sales' in col]"
      ],
      "metadata": {
        "id": "TgLckpfmc1L3"
      },
      "execution_count": null,
      "outputs": []
    },
    {
      "cell_type": "code",
      "source": [
        "OUT_STEPS = 16\n",
        "multi_window = WindowGenerator(input_width=20,\n",
        "                               label_columns=targets,\n",
        "                               label_width=OUT_STEPS,\n",
        "                               shift=OUT_STEPS)"
      ],
      "metadata": {
        "id": "SnsjxozAxhTl"
      },
      "execution_count": null,
      "outputs": []
    },
    {
      "cell_type": "code",
      "source": [
        "num_features = len(targets)"
      ],
      "metadata": {
        "id": "V_D_LzJYeFV8"
      },
      "execution_count": null,
      "outputs": []
    },
    {
      "cell_type": "code",
      "source": [
        "def const_multi_lstm_model():\n",
        "  # strategy = tf.distribute.TPUStrategy(resolver)\n",
        "  # with strategy.scope():\n",
        "  model = tf.keras.Sequential([\n",
        "              # Shape [batch, time, features] => [batch, lstm_units].\n",
        "              # Adding more `lstm_units` just overfits more quickly.\n",
        "              tf.keras.layers.LSTM(32, return_sequences=False),\n",
        "              # Shape => [batch, out_steps*features].\n",
        "              tf.keras.layers.Dense(OUT_STEPS*num_features,\n",
        "                                    kernel_initializer=tf.initializers.zeros()),\n",
        "              # Shape => [batch, out_steps, features].\n",
        "              tf.keras.layers.Reshape([OUT_STEPS, num_features])\n",
        "          ])\n",
        "  return model"
      ],
      "metadata": {
        "id": "qriiqexs3kmo"
      },
      "execution_count": null,
      "outputs": []
    },
    {
      "cell_type": "code",
      "source": [
        "# Use GPU acceleration for fastest results\n",
        "model = const_multi_lstm_model()\n",
        "\n",
        "history = compile_and_fit(model, multi_window)\n",
        "\n",
        "# IPython.display.clear_output()\n",
        "\n",
        "# multi_val_performance['LSTM'] = multi_lstm_model.evaluate(multi_window.val)\n",
        "# multi_performance['LSTM'] = multi_lstm_model.evaluate(multi_window.test, verbose=0)"
      ],
      "metadata": {
        "id": "-EOYgqAOybEk",
        "colab": {
          "base_uri": "https://localhost:8080/"
        },
        "outputId": "8ae92d73-8a28-478f-abc2-3537ba5750b7"
      },
      "execution_count": null,
      "outputs": [
        {
          "output_type": "stream",
          "name": "stdout",
          "text": [
            "Epoch 1/4\n",
            "36/36 [==============================] - 8s 171ms/step - loss: 0.3923 - root_mean_squared_logarithmic_error: 0.3923 - val_loss: 0.6610 - val_root_mean_squared_logarithmic_error: 0.6610\n",
            "Epoch 2/4\n",
            "36/36 [==============================] - 5s 139ms/step - loss: 0.3923 - root_mean_squared_logarithmic_error: 0.3923 - val_loss: 0.6610 - val_root_mean_squared_logarithmic_error: 0.6610\n",
            "Epoch 3/4\n",
            "36/36 [==============================] - 5s 139ms/step - loss: 0.3923 - root_mean_squared_logarithmic_error: 0.3923 - val_loss: 0.6610 - val_root_mean_squared_logarithmic_error: 0.6610\n"
          ]
        }
      ]
    },
    {
      "cell_type": "code",
      "source": [
        "results = model.predict(multi_window.test)"
      ],
      "metadata": {
        "id": "AbDja5Q4TTZq",
        "colab": {
          "base_uri": "https://localhost:8080/"
        },
        "outputId": "813391ce-64f3-4259-b57e-803715610e4c"
      },
      "execution_count": null,
      "outputs": [
        {
          "output_type": "stream",
          "name": "stdout",
          "text": [
            "5/5 [==============================] - 5s 10ms/step\n"
          ]
        }
      ]
    },
    {
      "cell_type": "code",
      "source": [
        "results.shape"
      ],
      "metadata": {
        "id": "isYFMaydcJkU",
        "colab": {
          "base_uri": "https://localhost:8080/"
        },
        "outputId": "0d6ce030-ca51-471f-8b1e-e140c5925d0b"
      },
      "execution_count": null,
      "outputs": [
        {
          "output_type": "execute_result",
          "data": {
            "text/plain": [
              "(134, 16, 1651)"
            ]
          },
          "metadata": {},
          "execution_count": 366
        }
      ]
    },
    {
      "cell_type": "code",
      "source": [
        "averaged = np.mean(results, axis=0)\n",
        "averaged.shape"
      ],
      "metadata": {
        "colab": {
          "base_uri": "https://localhost:8080/"
        },
        "id": "XYWgCztKqfOq",
        "outputId": "e4bb7bf0-b7b6-4abe-91d0-e68d02626997"
      },
      "execution_count": null,
      "outputs": [
        {
          "output_type": "execute_result",
          "data": {
            "text/plain": [
              "(16, 1651)"
            ]
          },
          "metadata": {},
          "execution_count": 367
        }
      ]
    },
    {
      "cell_type": "code",
      "source": [
        "result_df = pd.DataFrame(\n",
        "    averaged,\n",
        "    index = test['date'].unique(),\n",
        "    columns = targets\n",
        ")"
      ],
      "metadata": {
        "id": "0YuoBBeiqv9V"
      },
      "execution_count": null,
      "outputs": []
    },
    {
      "cell_type": "code",
      "source": [
        "rescaled = ((result_df * no_nan_std) + no_nan_mean).dropna(axis='columns') # Drop na since onpromotion introduces it"
      ],
      "metadata": {
        "id": "WQj319FysVeO"
      },
      "execution_count": null,
      "outputs": []
    },
    {
      "cell_type": "code",
      "source": [
        "tuples = [x.split('_')[::] for x in rescaled.columns]"
      ],
      "metadata": {
        "id": "mZ67siCY3wt0"
      },
      "execution_count": null,
      "outputs": []
    },
    {
      "cell_type": "code",
      "source": [
        "midx = pd.MultiIndex.from_tuples(tuples)\n",
        "midx"
      ],
      "metadata": {
        "colab": {
          "base_uri": "https://localhost:8080/"
        },
        "id": "XNR5A8rL2OTS",
        "outputId": "4e9a5838-f7f2-47ac-d4ac-3f442a653f3f"
      },
      "execution_count": null,
      "outputs": [
        {
          "output_type": "execute_result",
          "data": {
            "text/plain": [
              "MultiIndex([('sales', 'AUTOMOTIVE',  '1'),\n",
              "            ('sales', 'AUTOMOTIVE', '10'),\n",
              "            ('sales', 'AUTOMOTIVE', '11'),\n",
              "            ('sales', 'AUTOMOTIVE', '12'),\n",
              "            ('sales', 'AUTOMOTIVE', '13'),\n",
              "            ('sales', 'AUTOMOTIVE', '14'),\n",
              "            ('sales', 'AUTOMOTIVE', '15'),\n",
              "            ('sales', 'AUTOMOTIVE', '16'),\n",
              "            ('sales', 'AUTOMOTIVE', '17'),\n",
              "            ('sales', 'AUTOMOTIVE', '18'),\n",
              "            ...\n",
              "            ('sales',    'SEAFOOD', '49'),\n",
              "            ('sales',    'SEAFOOD',  '5'),\n",
              "            ('sales',    'SEAFOOD', '50'),\n",
              "            ('sales',    'SEAFOOD', '51'),\n",
              "            ('sales',    'SEAFOOD', '53'),\n",
              "            ('sales',    'SEAFOOD', '54'),\n",
              "            ('sales',    'SEAFOOD',  '6'),\n",
              "            ('sales',    'SEAFOOD',  '7'),\n",
              "            ('sales',    'SEAFOOD',  '8'),\n",
              "            ('sales',    'SEAFOOD',  '9')],\n",
              "           length=1651)"
            ]
          },
          "metadata": {},
          "execution_count": 398
        }
      ]
    },
    {
      "cell_type": "code",
      "source": [
        "rescaled.columns = midx"
      ],
      "metadata": {
        "id": "wFgEMy2O4exf"
      },
      "execution_count": null,
      "outputs": []
    },
    {
      "cell_type": "code",
      "source": [
        "stacked = rescaled.stack().stack()\n",
        "stacked"
      ],
      "metadata": {
        "colab": {
          "base_uri": "https://localhost:8080/",
          "height": 424
        },
        "id": "xBEKIRNB5zMm",
        "outputId": "13a09e20-4da6-41c9-9e06-e3a7a1358fae"
      },
      "execution_count": null,
      "outputs": [
        {
          "output_type": "execute_result",
          "data": {
            "text/plain": [
              "                                               sales\n",
              "2017-08-16 1 AUTOMOTIVE                     2.870229\n",
              "             BEAUTY                         2.077184\n",
              "             BEVERAGES                   1362.569975\n",
              "             BREAD/BAKERY                 320.048038\n",
              "             CELEBRATION                    7.594572\n",
              "...                                              ...\n",
              "2017-08-31 9 POULTRY                      493.628354\n",
              "             PREPARED FOODS                77.586248\n",
              "             PRODUCE                      677.812849\n",
              "             SCHOOL AND OFFICE SUPPLIES     3.572519\n",
              "             SEAFOOD                       16.562319\n",
              "\n",
              "[26416 rows x 1 columns]"
            ],
            "text/html": [
              "\n",
              "  <div id=\"df-2e4b399b-bf4a-4b5e-9d3c-335e41977b0f\">\n",
              "    <div class=\"colab-df-container\">\n",
              "      <div>\n",
              "<style scoped>\n",
              "    .dataframe tbody tr th:only-of-type {\n",
              "        vertical-align: middle;\n",
              "    }\n",
              "\n",
              "    .dataframe tbody tr th {\n",
              "        vertical-align: top;\n",
              "    }\n",
              "\n",
              "    .dataframe thead th {\n",
              "        text-align: right;\n",
              "    }\n",
              "</style>\n",
              "<table border=\"1\" class=\"dataframe\">\n",
              "  <thead>\n",
              "    <tr style=\"text-align: right;\">\n",
              "      <th></th>\n",
              "      <th></th>\n",
              "      <th></th>\n",
              "      <th>sales</th>\n",
              "    </tr>\n",
              "  </thead>\n",
              "  <tbody>\n",
              "    <tr>\n",
              "      <th rowspan=\"5\" valign=\"top\">2017-08-16</th>\n",
              "      <th rowspan=\"5\" valign=\"top\">1</th>\n",
              "      <th>AUTOMOTIVE</th>\n",
              "      <td>2.870229</td>\n",
              "    </tr>\n",
              "    <tr>\n",
              "      <th>BEAUTY</th>\n",
              "      <td>2.077184</td>\n",
              "    </tr>\n",
              "    <tr>\n",
              "      <th>BEVERAGES</th>\n",
              "      <td>1362.569975</td>\n",
              "    </tr>\n",
              "    <tr>\n",
              "      <th>BREAD/BAKERY</th>\n",
              "      <td>320.048038</td>\n",
              "    </tr>\n",
              "    <tr>\n",
              "      <th>CELEBRATION</th>\n",
              "      <td>7.594572</td>\n",
              "    </tr>\n",
              "    <tr>\n",
              "      <th>...</th>\n",
              "      <th>...</th>\n",
              "      <th>...</th>\n",
              "      <td>...</td>\n",
              "    </tr>\n",
              "    <tr>\n",
              "      <th rowspan=\"5\" valign=\"top\">2017-08-31</th>\n",
              "      <th rowspan=\"5\" valign=\"top\">9</th>\n",
              "      <th>POULTRY</th>\n",
              "      <td>493.628354</td>\n",
              "    </tr>\n",
              "    <tr>\n",
              "      <th>PREPARED FOODS</th>\n",
              "      <td>77.586248</td>\n",
              "    </tr>\n",
              "    <tr>\n",
              "      <th>PRODUCE</th>\n",
              "      <td>677.812849</td>\n",
              "    </tr>\n",
              "    <tr>\n",
              "      <th>SCHOOL AND OFFICE SUPPLIES</th>\n",
              "      <td>3.572519</td>\n",
              "    </tr>\n",
              "    <tr>\n",
              "      <th>SEAFOOD</th>\n",
              "      <td>16.562319</td>\n",
              "    </tr>\n",
              "  </tbody>\n",
              "</table>\n",
              "<p>26416 rows × 1 columns</p>\n",
              "</div>\n",
              "      <button class=\"colab-df-convert\" onclick=\"convertToInteractive('df-2e4b399b-bf4a-4b5e-9d3c-335e41977b0f')\"\n",
              "              title=\"Convert this dataframe to an interactive table.\"\n",
              "              style=\"display:none;\">\n",
              "        \n",
              "  <svg xmlns=\"http://www.w3.org/2000/svg\" height=\"24px\"viewBox=\"0 0 24 24\"\n",
              "       width=\"24px\">\n",
              "    <path d=\"M0 0h24v24H0V0z\" fill=\"none\"/>\n",
              "    <path d=\"M18.56 5.44l.94 2.06.94-2.06 2.06-.94-2.06-.94-.94-2.06-.94 2.06-2.06.94zm-11 1L8.5 8.5l.94-2.06 2.06-.94-2.06-.94L8.5 2.5l-.94 2.06-2.06.94zm10 10l.94 2.06.94-2.06 2.06-.94-2.06-.94-.94-2.06-.94 2.06-2.06.94z\"/><path d=\"M17.41 7.96l-1.37-1.37c-.4-.4-.92-.59-1.43-.59-.52 0-1.04.2-1.43.59L10.3 9.45l-7.72 7.72c-.78.78-.78 2.05 0 2.83L4 21.41c.39.39.9.59 1.41.59.51 0 1.02-.2 1.41-.59l7.78-7.78 2.81-2.81c.8-.78.8-2.07 0-2.86zM5.41 20L4 18.59l7.72-7.72 1.47 1.35L5.41 20z\"/>\n",
              "  </svg>\n",
              "      </button>\n",
              "      \n",
              "  <style>\n",
              "    .colab-df-container {\n",
              "      display:flex;\n",
              "      flex-wrap:wrap;\n",
              "      gap: 12px;\n",
              "    }\n",
              "\n",
              "    .colab-df-convert {\n",
              "      background-color: #E8F0FE;\n",
              "      border: none;\n",
              "      border-radius: 50%;\n",
              "      cursor: pointer;\n",
              "      display: none;\n",
              "      fill: #1967D2;\n",
              "      height: 32px;\n",
              "      padding: 0 0 0 0;\n",
              "      width: 32px;\n",
              "    }\n",
              "\n",
              "    .colab-df-convert:hover {\n",
              "      background-color: #E2EBFA;\n",
              "      box-shadow: 0px 1px 2px rgba(60, 64, 67, 0.3), 0px 1px 3px 1px rgba(60, 64, 67, 0.15);\n",
              "      fill: #174EA6;\n",
              "    }\n",
              "\n",
              "    [theme=dark] .colab-df-convert {\n",
              "      background-color: #3B4455;\n",
              "      fill: #D2E3FC;\n",
              "    }\n",
              "\n",
              "    [theme=dark] .colab-df-convert:hover {\n",
              "      background-color: #434B5C;\n",
              "      box-shadow: 0px 1px 3px 1px rgba(0, 0, 0, 0.15);\n",
              "      filter: drop-shadow(0px 1px 2px rgba(0, 0, 0, 0.3));\n",
              "      fill: #FFFFFF;\n",
              "    }\n",
              "  </style>\n",
              "\n",
              "      <script>\n",
              "        const buttonEl =\n",
              "          document.querySelector('#df-2e4b399b-bf4a-4b5e-9d3c-335e41977b0f button.colab-df-convert');\n",
              "        buttonEl.style.display =\n",
              "          google.colab.kernel.accessAllowed ? 'block' : 'none';\n",
              "\n",
              "        async function convertToInteractive(key) {\n",
              "          const element = document.querySelector('#df-2e4b399b-bf4a-4b5e-9d3c-335e41977b0f');\n",
              "          const dataTable =\n",
              "            await google.colab.kernel.invokeFunction('convertToInteractive',\n",
              "                                                     [key], {});\n",
              "          if (!dataTable) return;\n",
              "\n",
              "          const docLinkHtml = 'Like what you see? Visit the ' +\n",
              "            '<a target=\"_blank\" href=https://colab.research.google.com/notebooks/data_table.ipynb>data table notebook</a>'\n",
              "            + ' to learn more about interactive tables.';\n",
              "          element.innerHTML = '';\n",
              "          dataTable['output_type'] = 'display_data';\n",
              "          await google.colab.output.renderOutput(dataTable, element);\n",
              "          const docLink = document.createElement('div');\n",
              "          docLink.innerHTML = docLinkHtml;\n",
              "          element.appendChild(docLink);\n",
              "        }\n",
              "      </script>\n",
              "    </div>\n",
              "  </div>\n",
              "  "
            ]
          },
          "metadata": {},
          "execution_count": 411
        }
      ]
    },
    {
      "cell_type": "code",
      "source": [
        "dummy = test.copy()\n",
        "dummy['dummy_sales'] = 0"
      ],
      "metadata": {
        "id": "TZJQSqrz9eIr"
      },
      "execution_count": null,
      "outputs": []
    },
    {
      "cell_type": "code",
      "source": [
        "new = dummy.drop(['onpromotion', 'id'], axis=1).set_index(['date', 'store_nbr', 'family'])\n",
        "new"
      ],
      "metadata": {
        "colab": {
          "base_uri": "https://localhost:8080/",
          "height": 455
        },
        "id": "AY-YlIVh6dDN",
        "outputId": "c4341cb4-7573-4b97-e8fb-c86ca783d323"
      },
      "execution_count": null,
      "outputs": [
        {
          "output_type": "execute_result",
          "data": {
            "text/plain": [
              "                                                 dummy_sales\n",
              "date       store_nbr family                                 \n",
              "2017-08-16 1         AUTOMOTIVE                            0\n",
              "                     BABY CARE                             0\n",
              "                     BEAUTY                                0\n",
              "                     BEVERAGES                             0\n",
              "                     BOOKS                                 0\n",
              "...                                                      ...\n",
              "2017-08-31 9         POULTRY                               0\n",
              "                     PREPARED FOODS                        0\n",
              "                     PRODUCE                               0\n",
              "                     SCHOOL AND OFFICE SUPPLIES            0\n",
              "                     SEAFOOD                               0\n",
              "\n",
              "[28512 rows x 1 columns]"
            ],
            "text/html": [
              "\n",
              "  <div id=\"df-0980958e-c275-4be6-aa2a-1fb8cd15b254\">\n",
              "    <div class=\"colab-df-container\">\n",
              "      <div>\n",
              "<style scoped>\n",
              "    .dataframe tbody tr th:only-of-type {\n",
              "        vertical-align: middle;\n",
              "    }\n",
              "\n",
              "    .dataframe tbody tr th {\n",
              "        vertical-align: top;\n",
              "    }\n",
              "\n",
              "    .dataframe thead th {\n",
              "        text-align: right;\n",
              "    }\n",
              "</style>\n",
              "<table border=\"1\" class=\"dataframe\">\n",
              "  <thead>\n",
              "    <tr style=\"text-align: right;\">\n",
              "      <th></th>\n",
              "      <th></th>\n",
              "      <th></th>\n",
              "      <th>dummy_sales</th>\n",
              "    </tr>\n",
              "    <tr>\n",
              "      <th>date</th>\n",
              "      <th>store_nbr</th>\n",
              "      <th>family</th>\n",
              "      <th></th>\n",
              "    </tr>\n",
              "  </thead>\n",
              "  <tbody>\n",
              "    <tr>\n",
              "      <th rowspan=\"5\" valign=\"top\">2017-08-16</th>\n",
              "      <th rowspan=\"5\" valign=\"top\">1</th>\n",
              "      <th>AUTOMOTIVE</th>\n",
              "      <td>0</td>\n",
              "    </tr>\n",
              "    <tr>\n",
              "      <th>BABY CARE</th>\n",
              "      <td>0</td>\n",
              "    </tr>\n",
              "    <tr>\n",
              "      <th>BEAUTY</th>\n",
              "      <td>0</td>\n",
              "    </tr>\n",
              "    <tr>\n",
              "      <th>BEVERAGES</th>\n",
              "      <td>0</td>\n",
              "    </tr>\n",
              "    <tr>\n",
              "      <th>BOOKS</th>\n",
              "      <td>0</td>\n",
              "    </tr>\n",
              "    <tr>\n",
              "      <th>...</th>\n",
              "      <th>...</th>\n",
              "      <th>...</th>\n",
              "      <td>...</td>\n",
              "    </tr>\n",
              "    <tr>\n",
              "      <th rowspan=\"5\" valign=\"top\">2017-08-31</th>\n",
              "      <th rowspan=\"5\" valign=\"top\">9</th>\n",
              "      <th>POULTRY</th>\n",
              "      <td>0</td>\n",
              "    </tr>\n",
              "    <tr>\n",
              "      <th>PREPARED FOODS</th>\n",
              "      <td>0</td>\n",
              "    </tr>\n",
              "    <tr>\n",
              "      <th>PRODUCE</th>\n",
              "      <td>0</td>\n",
              "    </tr>\n",
              "    <tr>\n",
              "      <th>SCHOOL AND OFFICE SUPPLIES</th>\n",
              "      <td>0</td>\n",
              "    </tr>\n",
              "    <tr>\n",
              "      <th>SEAFOOD</th>\n",
              "      <td>0</td>\n",
              "    </tr>\n",
              "  </tbody>\n",
              "</table>\n",
              "<p>28512 rows × 1 columns</p>\n",
              "</div>\n",
              "      <button class=\"colab-df-convert\" onclick=\"convertToInteractive('df-0980958e-c275-4be6-aa2a-1fb8cd15b254')\"\n",
              "              title=\"Convert this dataframe to an interactive table.\"\n",
              "              style=\"display:none;\">\n",
              "        \n",
              "  <svg xmlns=\"http://www.w3.org/2000/svg\" height=\"24px\"viewBox=\"0 0 24 24\"\n",
              "       width=\"24px\">\n",
              "    <path d=\"M0 0h24v24H0V0z\" fill=\"none\"/>\n",
              "    <path d=\"M18.56 5.44l.94 2.06.94-2.06 2.06-.94-2.06-.94-.94-2.06-.94 2.06-2.06.94zm-11 1L8.5 8.5l.94-2.06 2.06-.94-2.06-.94L8.5 2.5l-.94 2.06-2.06.94zm10 10l.94 2.06.94-2.06 2.06-.94-2.06-.94-.94-2.06-.94 2.06-2.06.94z\"/><path d=\"M17.41 7.96l-1.37-1.37c-.4-.4-.92-.59-1.43-.59-.52 0-1.04.2-1.43.59L10.3 9.45l-7.72 7.72c-.78.78-.78 2.05 0 2.83L4 21.41c.39.39.9.59 1.41.59.51 0 1.02-.2 1.41-.59l7.78-7.78 2.81-2.81c.8-.78.8-2.07 0-2.86zM5.41 20L4 18.59l7.72-7.72 1.47 1.35L5.41 20z\"/>\n",
              "  </svg>\n",
              "      </button>\n",
              "      \n",
              "  <style>\n",
              "    .colab-df-container {\n",
              "      display:flex;\n",
              "      flex-wrap:wrap;\n",
              "      gap: 12px;\n",
              "    }\n",
              "\n",
              "    .colab-df-convert {\n",
              "      background-color: #E8F0FE;\n",
              "      border: none;\n",
              "      border-radius: 50%;\n",
              "      cursor: pointer;\n",
              "      display: none;\n",
              "      fill: #1967D2;\n",
              "      height: 32px;\n",
              "      padding: 0 0 0 0;\n",
              "      width: 32px;\n",
              "    }\n",
              "\n",
              "    .colab-df-convert:hover {\n",
              "      background-color: #E2EBFA;\n",
              "      box-shadow: 0px 1px 2px rgba(60, 64, 67, 0.3), 0px 1px 3px 1px rgba(60, 64, 67, 0.15);\n",
              "      fill: #174EA6;\n",
              "    }\n",
              "\n",
              "    [theme=dark] .colab-df-convert {\n",
              "      background-color: #3B4455;\n",
              "      fill: #D2E3FC;\n",
              "    }\n",
              "\n",
              "    [theme=dark] .colab-df-convert:hover {\n",
              "      background-color: #434B5C;\n",
              "      box-shadow: 0px 1px 3px 1px rgba(0, 0, 0, 0.15);\n",
              "      filter: drop-shadow(0px 1px 2px rgba(0, 0, 0, 0.3));\n",
              "      fill: #FFFFFF;\n",
              "    }\n",
              "  </style>\n",
              "\n",
              "      <script>\n",
              "        const buttonEl =\n",
              "          document.querySelector('#df-0980958e-c275-4be6-aa2a-1fb8cd15b254 button.colab-df-convert');\n",
              "        buttonEl.style.display =\n",
              "          google.colab.kernel.accessAllowed ? 'block' : 'none';\n",
              "\n",
              "        async function convertToInteractive(key) {\n",
              "          const element = document.querySelector('#df-0980958e-c275-4be6-aa2a-1fb8cd15b254');\n",
              "          const dataTable =\n",
              "            await google.colab.kernel.invokeFunction('convertToInteractive',\n",
              "                                                     [key], {});\n",
              "          if (!dataTable) return;\n",
              "\n",
              "          const docLinkHtml = 'Like what you see? Visit the ' +\n",
              "            '<a target=\"_blank\" href=https://colab.research.google.com/notebooks/data_table.ipynb>data table notebook</a>'\n",
              "            + ' to learn more about interactive tables.';\n",
              "          element.innerHTML = '';\n",
              "          dataTable['output_type'] = 'display_data';\n",
              "          await google.colab.output.renderOutput(dataTable, element);\n",
              "          const docLink = document.createElement('div');\n",
              "          docLink.innerHTML = docLinkHtml;\n",
              "          element.appendChild(docLink);\n",
              "        }\n",
              "      </script>\n",
              "    </div>\n",
              "  </div>\n",
              "  "
            ]
          },
          "metadata": {},
          "execution_count": 431
        }
      ]
    },
    {
      "cell_type": "code",
      "source": [
        "stacked.index.set_names('date', level=0, inplace=True)\n",
        "stacked.index.set_names('store_nbr', level=1, inplace=True)\n",
        "stacked.index.set_names('family', level=2, inplace=True)"
      ],
      "metadata": {
        "id": "M5olchi_-CuL"
      },
      "execution_count": null,
      "outputs": []
    },
    {
      "cell_type": "code",
      "source": [
        "new.index"
      ],
      "metadata": {
        "colab": {
          "base_uri": "https://localhost:8080/"
        },
        "id": "dcf4_5JqAXnX",
        "outputId": "5fa841e6-c471-4529-c905-fd983695fed7"
      },
      "execution_count": null,
      "outputs": [
        {
          "output_type": "execute_result",
          "data": {
            "text/plain": [
              "MultiIndex([('2017-08-16', 1,                 'AUTOMOTIVE'),\n",
              "            ('2017-08-16', 1,                  'BABY CARE'),\n",
              "            ('2017-08-16', 1,                     'BEAUTY'),\n",
              "            ('2017-08-16', 1,                  'BEVERAGES'),\n",
              "            ('2017-08-16', 1,                      'BOOKS'),\n",
              "            ('2017-08-16', 1,               'BREAD/BAKERY'),\n",
              "            ('2017-08-16', 1,                'CELEBRATION'),\n",
              "            ('2017-08-16', 1,                   'CLEANING'),\n",
              "            ('2017-08-16', 1,                      'DAIRY'),\n",
              "            ('2017-08-16', 1,                       'DELI'),\n",
              "            ...\n",
              "            ('2017-08-31', 9,                  'MAGAZINES'),\n",
              "            ('2017-08-31', 9,                      'MEATS'),\n",
              "            ('2017-08-31', 9,              'PERSONAL CARE'),\n",
              "            ('2017-08-31', 9,               'PET SUPPLIES'),\n",
              "            ('2017-08-31', 9,    'PLAYERS AND ELECTRONICS'),\n",
              "            ('2017-08-31', 9,                    'POULTRY'),\n",
              "            ('2017-08-31', 9,             'PREPARED FOODS'),\n",
              "            ('2017-08-31', 9,                    'PRODUCE'),\n",
              "            ('2017-08-31', 9, 'SCHOOL AND OFFICE SUPPLIES'),\n",
              "            ('2017-08-31', 9,                    'SEAFOOD')],\n",
              "           names=['date', 'store_nbr', 'family'], length=28512)"
            ]
          },
          "metadata": {},
          "execution_count": 458
        }
      ]
    },
    {
      "cell_type": "code",
      "source": [],
      "metadata": {
        "colab": {
          "base_uri": "https://localhost:8080/"
        },
        "id": "5Hyug2yEAgop",
        "outputId": "d9f9ed6d-c79f-4d6d-fd1f-41646887c98a"
      },
      "execution_count": null,
      "outputs": [
        {
          "output_type": "execute_result",
          "data": {
            "text/plain": [
              "Index(['1', '2', '3', '4', '5', '6', '7', '8', '9', '10', '11', '12', '13',\n",
              "       '14', '15', '16', '17', '18', '19', '20', '21', '22', '23', '24', '25',\n",
              "       '26', '27', '28', '29', '30', '31', '32', '33', '34', '35', '36', '37',\n",
              "       '38', '39', '40', '41', '42', '43', '44', '45', '46', '47', '48', '49',\n",
              "       '50', '51', '52', '53', '54'],\n",
              "      dtype='object', name='store_nbr')"
            ]
          },
          "metadata": {},
          "execution_count": 465
        }
      ]
    },
    {
      "cell_type": "code",
      "source": [
        "new_store_nbr_idx = new.index.get_level_values('store_nbr').unique().sort_values().astype('str')\n",
        "new.index.set_levels(\n",
        "    [new_store_nbr_idx],\n",
        "    level=['store_nbr'],\n",
        "    inplace=True\n",
        ")"
      ],
      "metadata": {
        "colab": {
          "base_uri": "https://localhost:8080/"
        },
        "id": "tKNB9ddBANyv",
        "outputId": "81a67afb-d803-461e-f983-0a5c15f75f50"
      },
      "execution_count": null,
      "outputs": [
        {
          "output_type": "stream",
          "name": "stderr",
          "text": [
            "<ipython-input-467-d6c497d0b5ea>:2: FutureWarning: inplace is deprecated and will be removed in a future version.\n",
            "  new.index.set_levels(\n"
          ]
        }
      ]
    },
    {
      "cell_type": "code",
      "source": [
        "new.index"
      ],
      "metadata": {
        "colab": {
          "base_uri": "https://localhost:8080/"
        },
        "id": "VHagyN3-A7SY",
        "outputId": "5cda5e08-9842-403c-f54e-132d9d075a00"
      },
      "execution_count": null,
      "outputs": [
        {
          "output_type": "execute_result",
          "data": {
            "text/plain": [
              "MultiIndex([('2017-08-16', '1',                 'AUTOMOTIVE'),\n",
              "            ('2017-08-16', '1',                  'BABY CARE'),\n",
              "            ('2017-08-16', '1',                     'BEAUTY'),\n",
              "            ('2017-08-16', '1',                  'BEVERAGES'),\n",
              "            ('2017-08-16', '1',                      'BOOKS'),\n",
              "            ('2017-08-16', '1',               'BREAD/BAKERY'),\n",
              "            ('2017-08-16', '1',                'CELEBRATION'),\n",
              "            ('2017-08-16', '1',                   'CLEANING'),\n",
              "            ('2017-08-16', '1',                      'DAIRY'),\n",
              "            ('2017-08-16', '1',                       'DELI'),\n",
              "            ...\n",
              "            ('2017-08-31', '9',                  'MAGAZINES'),\n",
              "            ('2017-08-31', '9',                      'MEATS'),\n",
              "            ('2017-08-31', '9',              'PERSONAL CARE'),\n",
              "            ('2017-08-31', '9',               'PET SUPPLIES'),\n",
              "            ('2017-08-31', '9',    'PLAYERS AND ELECTRONICS'),\n",
              "            ('2017-08-31', '9',                    'POULTRY'),\n",
              "            ('2017-08-31', '9',             'PREPARED FOODS'),\n",
              "            ('2017-08-31', '9',                    'PRODUCE'),\n",
              "            ('2017-08-31', '9', 'SCHOOL AND OFFICE SUPPLIES'),\n",
              "            ('2017-08-31', '9',                    'SEAFOOD')],\n",
              "           names=['date', 'store_nbr', 'family'], length=28512)"
            ]
          },
          "metadata": {},
          "execution_count": 468
        }
      ]
    },
    {
      "cell_type": "code",
      "source": [
        "stacked.index"
      ],
      "metadata": {
        "colab": {
          "base_uri": "https://localhost:8080/"
        },
        "id": "8gnBI_OW-uWH",
        "outputId": "5bf6557d-495e-4a42-f4d0-e1c6e8c3cbcf"
      },
      "execution_count": null,
      "outputs": [
        {
          "output_type": "execute_result",
          "data": {
            "text/plain": [
              "MultiIndex([('2017-08-16', '1',                 'AUTOMOTIVE'),\n",
              "            ('2017-08-16', '1',                     'BEAUTY'),\n",
              "            ('2017-08-16', '1',                  'BEVERAGES'),\n",
              "            ('2017-08-16', '1',               'BREAD/BAKERY'),\n",
              "            ('2017-08-16', '1',                'CELEBRATION'),\n",
              "            ('2017-08-16', '1',                   'CLEANING'),\n",
              "            ('2017-08-16', '1',                      'DAIRY'),\n",
              "            ('2017-08-16', '1',                       'DELI'),\n",
              "            ('2017-08-16', '1',                       'EGGS'),\n",
              "            ('2017-08-16', '1',               'FROZEN FOODS'),\n",
              "            ...\n",
              "            ('2017-08-31', '9',                  'MAGAZINES'),\n",
              "            ('2017-08-31', '9',                      'MEATS'),\n",
              "            ('2017-08-31', '9',              'PERSONAL CARE'),\n",
              "            ('2017-08-31', '9',               'PET SUPPLIES'),\n",
              "            ('2017-08-31', '9',    'PLAYERS AND ELECTRONICS'),\n",
              "            ('2017-08-31', '9',                    'POULTRY'),\n",
              "            ('2017-08-31', '9',             'PREPARED FOODS'),\n",
              "            ('2017-08-31', '9',                    'PRODUCE'),\n",
              "            ('2017-08-31', '9', 'SCHOOL AND OFFICE SUPPLIES'),\n",
              "            ('2017-08-31', '9',                    'SEAFOOD')],\n",
              "           names=['date', 'store_nbr', 'family'], length=26416)"
            ]
          },
          "metadata": {},
          "execution_count": 445
        }
      ]
    },
    {
      "cell_type": "code",
      "source": [
        "joined = new.join(stacked, how='outer')"
      ],
      "metadata": {
        "id": "dlbhZ7CY87PM"
      },
      "execution_count": null,
      "outputs": []
    },
    {
      "cell_type": "code",
      "source": [
        "joined = joined.drop('dummy_sales', axis='columns')"
      ],
      "metadata": {
        "id": "3eg-T4B4_UqC"
      },
      "execution_count": null,
      "outputs": []
    },
    {
      "cell_type": "code",
      "source": [
        "joined = joined.fillna(0)"
      ],
      "metadata": {
        "id": "MEuxzjik_nCp"
      },
      "execution_count": null,
      "outputs": []
    },
    {
      "cell_type": "code",
      "source": [
        "test"
      ],
      "metadata": {
        "colab": {
          "base_uri": "https://localhost:8080/",
          "height": 424
        },
        "id": "e0mMscQk_y0a",
        "outputId": "5467d890-7a71-4d97-cc54-4bf10c354a4c"
      },
      "execution_count": null,
      "outputs": [
        {
          "output_type": "execute_result",
          "data": {
            "text/plain": [
              "            id       date  store_nbr                      family  onpromotion\n",
              "0      3000888 2017-08-16          1                  AUTOMOTIVE            0\n",
              "1      3000889 2017-08-16          1                   BABY CARE            0\n",
              "2      3000890 2017-08-16          1                      BEAUTY            2\n",
              "3      3000891 2017-08-16          1                   BEVERAGES           20\n",
              "4      3000892 2017-08-16          1                       BOOKS            0\n",
              "...        ...        ...        ...                         ...          ...\n",
              "28507  3029395 2017-08-31          9                     POULTRY            1\n",
              "28508  3029396 2017-08-31          9              PREPARED FOODS            0\n",
              "28509  3029397 2017-08-31          9                     PRODUCE            1\n",
              "28510  3029398 2017-08-31          9  SCHOOL AND OFFICE SUPPLIES            9\n",
              "28511  3029399 2017-08-31          9                     SEAFOOD            0\n",
              "\n",
              "[28512 rows x 5 columns]"
            ],
            "text/html": [
              "\n",
              "  <div id=\"df-ffa87c95-2a9c-4760-a38a-5d61a843571f\">\n",
              "    <div class=\"colab-df-container\">\n",
              "      <div>\n",
              "<style scoped>\n",
              "    .dataframe tbody tr th:only-of-type {\n",
              "        vertical-align: middle;\n",
              "    }\n",
              "\n",
              "    .dataframe tbody tr th {\n",
              "        vertical-align: top;\n",
              "    }\n",
              "\n",
              "    .dataframe thead th {\n",
              "        text-align: right;\n",
              "    }\n",
              "</style>\n",
              "<table border=\"1\" class=\"dataframe\">\n",
              "  <thead>\n",
              "    <tr style=\"text-align: right;\">\n",
              "      <th></th>\n",
              "      <th>id</th>\n",
              "      <th>date</th>\n",
              "      <th>store_nbr</th>\n",
              "      <th>family</th>\n",
              "      <th>onpromotion</th>\n",
              "    </tr>\n",
              "  </thead>\n",
              "  <tbody>\n",
              "    <tr>\n",
              "      <th>0</th>\n",
              "      <td>3000888</td>\n",
              "      <td>2017-08-16</td>\n",
              "      <td>1</td>\n",
              "      <td>AUTOMOTIVE</td>\n",
              "      <td>0</td>\n",
              "    </tr>\n",
              "    <tr>\n",
              "      <th>1</th>\n",
              "      <td>3000889</td>\n",
              "      <td>2017-08-16</td>\n",
              "      <td>1</td>\n",
              "      <td>BABY CARE</td>\n",
              "      <td>0</td>\n",
              "    </tr>\n",
              "    <tr>\n",
              "      <th>2</th>\n",
              "      <td>3000890</td>\n",
              "      <td>2017-08-16</td>\n",
              "      <td>1</td>\n",
              "      <td>BEAUTY</td>\n",
              "      <td>2</td>\n",
              "    </tr>\n",
              "    <tr>\n",
              "      <th>3</th>\n",
              "      <td>3000891</td>\n",
              "      <td>2017-08-16</td>\n",
              "      <td>1</td>\n",
              "      <td>BEVERAGES</td>\n",
              "      <td>20</td>\n",
              "    </tr>\n",
              "    <tr>\n",
              "      <th>4</th>\n",
              "      <td>3000892</td>\n",
              "      <td>2017-08-16</td>\n",
              "      <td>1</td>\n",
              "      <td>BOOKS</td>\n",
              "      <td>0</td>\n",
              "    </tr>\n",
              "    <tr>\n",
              "      <th>...</th>\n",
              "      <td>...</td>\n",
              "      <td>...</td>\n",
              "      <td>...</td>\n",
              "      <td>...</td>\n",
              "      <td>...</td>\n",
              "    </tr>\n",
              "    <tr>\n",
              "      <th>28507</th>\n",
              "      <td>3029395</td>\n",
              "      <td>2017-08-31</td>\n",
              "      <td>9</td>\n",
              "      <td>POULTRY</td>\n",
              "      <td>1</td>\n",
              "    </tr>\n",
              "    <tr>\n",
              "      <th>28508</th>\n",
              "      <td>3029396</td>\n",
              "      <td>2017-08-31</td>\n",
              "      <td>9</td>\n",
              "      <td>PREPARED FOODS</td>\n",
              "      <td>0</td>\n",
              "    </tr>\n",
              "    <tr>\n",
              "      <th>28509</th>\n",
              "      <td>3029397</td>\n",
              "      <td>2017-08-31</td>\n",
              "      <td>9</td>\n",
              "      <td>PRODUCE</td>\n",
              "      <td>1</td>\n",
              "    </tr>\n",
              "    <tr>\n",
              "      <th>28510</th>\n",
              "      <td>3029398</td>\n",
              "      <td>2017-08-31</td>\n",
              "      <td>9</td>\n",
              "      <td>SCHOOL AND OFFICE SUPPLIES</td>\n",
              "      <td>9</td>\n",
              "    </tr>\n",
              "    <tr>\n",
              "      <th>28511</th>\n",
              "      <td>3029399</td>\n",
              "      <td>2017-08-31</td>\n",
              "      <td>9</td>\n",
              "      <td>SEAFOOD</td>\n",
              "      <td>0</td>\n",
              "    </tr>\n",
              "  </tbody>\n",
              "</table>\n",
              "<p>28512 rows × 5 columns</p>\n",
              "</div>\n",
              "      <button class=\"colab-df-convert\" onclick=\"convertToInteractive('df-ffa87c95-2a9c-4760-a38a-5d61a843571f')\"\n",
              "              title=\"Convert this dataframe to an interactive table.\"\n",
              "              style=\"display:none;\">\n",
              "        \n",
              "  <svg xmlns=\"http://www.w3.org/2000/svg\" height=\"24px\"viewBox=\"0 0 24 24\"\n",
              "       width=\"24px\">\n",
              "    <path d=\"M0 0h24v24H0V0z\" fill=\"none\"/>\n",
              "    <path d=\"M18.56 5.44l.94 2.06.94-2.06 2.06-.94-2.06-.94-.94-2.06-.94 2.06-2.06.94zm-11 1L8.5 8.5l.94-2.06 2.06-.94-2.06-.94L8.5 2.5l-.94 2.06-2.06.94zm10 10l.94 2.06.94-2.06 2.06-.94-2.06-.94-.94-2.06-.94 2.06-2.06.94z\"/><path d=\"M17.41 7.96l-1.37-1.37c-.4-.4-.92-.59-1.43-.59-.52 0-1.04.2-1.43.59L10.3 9.45l-7.72 7.72c-.78.78-.78 2.05 0 2.83L4 21.41c.39.39.9.59 1.41.59.51 0 1.02-.2 1.41-.59l7.78-7.78 2.81-2.81c.8-.78.8-2.07 0-2.86zM5.41 20L4 18.59l7.72-7.72 1.47 1.35L5.41 20z\"/>\n",
              "  </svg>\n",
              "      </button>\n",
              "      \n",
              "  <style>\n",
              "    .colab-df-container {\n",
              "      display:flex;\n",
              "      flex-wrap:wrap;\n",
              "      gap: 12px;\n",
              "    }\n",
              "\n",
              "    .colab-df-convert {\n",
              "      background-color: #E8F0FE;\n",
              "      border: none;\n",
              "      border-radius: 50%;\n",
              "      cursor: pointer;\n",
              "      display: none;\n",
              "      fill: #1967D2;\n",
              "      height: 32px;\n",
              "      padding: 0 0 0 0;\n",
              "      width: 32px;\n",
              "    }\n",
              "\n",
              "    .colab-df-convert:hover {\n",
              "      background-color: #E2EBFA;\n",
              "      box-shadow: 0px 1px 2px rgba(60, 64, 67, 0.3), 0px 1px 3px 1px rgba(60, 64, 67, 0.15);\n",
              "      fill: #174EA6;\n",
              "    }\n",
              "\n",
              "    [theme=dark] .colab-df-convert {\n",
              "      background-color: #3B4455;\n",
              "      fill: #D2E3FC;\n",
              "    }\n",
              "\n",
              "    [theme=dark] .colab-df-convert:hover {\n",
              "      background-color: #434B5C;\n",
              "      box-shadow: 0px 1px 3px 1px rgba(0, 0, 0, 0.15);\n",
              "      filter: drop-shadow(0px 1px 2px rgba(0, 0, 0, 0.3));\n",
              "      fill: #FFFFFF;\n",
              "    }\n",
              "  </style>\n",
              "\n",
              "      <script>\n",
              "        const buttonEl =\n",
              "          document.querySelector('#df-ffa87c95-2a9c-4760-a38a-5d61a843571f button.colab-df-convert');\n",
              "        buttonEl.style.display =\n",
              "          google.colab.kernel.accessAllowed ? 'block' : 'none';\n",
              "\n",
              "        async function convertToInteractive(key) {\n",
              "          const element = document.querySelector('#df-ffa87c95-2a9c-4760-a38a-5d61a843571f');\n",
              "          const dataTable =\n",
              "            await google.colab.kernel.invokeFunction('convertToInteractive',\n",
              "                                                     [key], {});\n",
              "          if (!dataTable) return;\n",
              "\n",
              "          const docLinkHtml = 'Like what you see? Visit the ' +\n",
              "            '<a target=\"_blank\" href=https://colab.research.google.com/notebooks/data_table.ipynb>data table notebook</a>'\n",
              "            + ' to learn more about interactive tables.';\n",
              "          element.innerHTML = '';\n",
              "          dataTable['output_type'] = 'display_data';\n",
              "          await google.colab.output.renderOutput(dataTable, element);\n",
              "          const docLink = document.createElement('div');\n",
              "          docLink.innerHTML = docLinkHtml;\n",
              "          element.appendChild(docLink);\n",
              "        }\n",
              "      </script>\n",
              "    </div>\n",
              "  </div>\n",
              "  "
            ]
          },
          "metadata": {},
          "execution_count": 476
        }
      ]
    },
    {
      "cell_type": "code",
      "source": [
        "joined = joined.reset_index()"
      ],
      "metadata": {
        "id": "lHFMBZxT_t-U"
      },
      "execution_count": null,
      "outputs": []
    },
    {
      "cell_type": "code",
      "source": [
        "joined"
      ],
      "metadata": {
        "colab": {
          "base_uri": "https://localhost:8080/",
          "height": 424
        },
        "id": "OSD0xppsBGqK",
        "outputId": "caa6a41e-9f9f-4c60-84ff-bd54cf188f0e"
      },
      "execution_count": null,
      "outputs": [
        {
          "output_type": "execute_result",
          "data": {
            "text/plain": [
              "            date store_nbr                      family        sales\n",
              "0     2017-08-16         1                  AUTOMOTIVE     2.870229\n",
              "1     2017-08-16         1                   BABY CARE     0.000000\n",
              "2     2017-08-16         1                      BEAUTY     2.077184\n",
              "3     2017-08-16         1                   BEVERAGES  1362.569975\n",
              "4     2017-08-16         1                       BOOKS     0.000000\n",
              "...          ...       ...                         ...          ...\n",
              "28507 2017-08-31         9                     POULTRY   493.628354\n",
              "28508 2017-08-31         9              PREPARED FOODS    77.586248\n",
              "28509 2017-08-31         9                     PRODUCE   677.812849\n",
              "28510 2017-08-31         9  SCHOOL AND OFFICE SUPPLIES     3.572519\n",
              "28511 2017-08-31         9                     SEAFOOD    16.562319\n",
              "\n",
              "[28512 rows x 4 columns]"
            ],
            "text/html": [
              "\n",
              "  <div id=\"df-e188f268-53b8-4fa8-86b4-222db7b99f8b\">\n",
              "    <div class=\"colab-df-container\">\n",
              "      <div>\n",
              "<style scoped>\n",
              "    .dataframe tbody tr th:only-of-type {\n",
              "        vertical-align: middle;\n",
              "    }\n",
              "\n",
              "    .dataframe tbody tr th {\n",
              "        vertical-align: top;\n",
              "    }\n",
              "\n",
              "    .dataframe thead th {\n",
              "        text-align: right;\n",
              "    }\n",
              "</style>\n",
              "<table border=\"1\" class=\"dataframe\">\n",
              "  <thead>\n",
              "    <tr style=\"text-align: right;\">\n",
              "      <th></th>\n",
              "      <th>date</th>\n",
              "      <th>store_nbr</th>\n",
              "      <th>family</th>\n",
              "      <th>sales</th>\n",
              "    </tr>\n",
              "  </thead>\n",
              "  <tbody>\n",
              "    <tr>\n",
              "      <th>0</th>\n",
              "      <td>2017-08-16</td>\n",
              "      <td>1</td>\n",
              "      <td>AUTOMOTIVE</td>\n",
              "      <td>2.870229</td>\n",
              "    </tr>\n",
              "    <tr>\n",
              "      <th>1</th>\n",
              "      <td>2017-08-16</td>\n",
              "      <td>1</td>\n",
              "      <td>BABY CARE</td>\n",
              "      <td>0.000000</td>\n",
              "    </tr>\n",
              "    <tr>\n",
              "      <th>2</th>\n",
              "      <td>2017-08-16</td>\n",
              "      <td>1</td>\n",
              "      <td>BEAUTY</td>\n",
              "      <td>2.077184</td>\n",
              "    </tr>\n",
              "    <tr>\n",
              "      <th>3</th>\n",
              "      <td>2017-08-16</td>\n",
              "      <td>1</td>\n",
              "      <td>BEVERAGES</td>\n",
              "      <td>1362.569975</td>\n",
              "    </tr>\n",
              "    <tr>\n",
              "      <th>4</th>\n",
              "      <td>2017-08-16</td>\n",
              "      <td>1</td>\n",
              "      <td>BOOKS</td>\n",
              "      <td>0.000000</td>\n",
              "    </tr>\n",
              "    <tr>\n",
              "      <th>...</th>\n",
              "      <td>...</td>\n",
              "      <td>...</td>\n",
              "      <td>...</td>\n",
              "      <td>...</td>\n",
              "    </tr>\n",
              "    <tr>\n",
              "      <th>28507</th>\n",
              "      <td>2017-08-31</td>\n",
              "      <td>9</td>\n",
              "      <td>POULTRY</td>\n",
              "      <td>493.628354</td>\n",
              "    </tr>\n",
              "    <tr>\n",
              "      <th>28508</th>\n",
              "      <td>2017-08-31</td>\n",
              "      <td>9</td>\n",
              "      <td>PREPARED FOODS</td>\n",
              "      <td>77.586248</td>\n",
              "    </tr>\n",
              "    <tr>\n",
              "      <th>28509</th>\n",
              "      <td>2017-08-31</td>\n",
              "      <td>9</td>\n",
              "      <td>PRODUCE</td>\n",
              "      <td>677.812849</td>\n",
              "    </tr>\n",
              "    <tr>\n",
              "      <th>28510</th>\n",
              "      <td>2017-08-31</td>\n",
              "      <td>9</td>\n",
              "      <td>SCHOOL AND OFFICE SUPPLIES</td>\n",
              "      <td>3.572519</td>\n",
              "    </tr>\n",
              "    <tr>\n",
              "      <th>28511</th>\n",
              "      <td>2017-08-31</td>\n",
              "      <td>9</td>\n",
              "      <td>SEAFOOD</td>\n",
              "      <td>16.562319</td>\n",
              "    </tr>\n",
              "  </tbody>\n",
              "</table>\n",
              "<p>28512 rows × 4 columns</p>\n",
              "</div>\n",
              "      <button class=\"colab-df-convert\" onclick=\"convertToInteractive('df-e188f268-53b8-4fa8-86b4-222db7b99f8b')\"\n",
              "              title=\"Convert this dataframe to an interactive table.\"\n",
              "              style=\"display:none;\">\n",
              "        \n",
              "  <svg xmlns=\"http://www.w3.org/2000/svg\" height=\"24px\"viewBox=\"0 0 24 24\"\n",
              "       width=\"24px\">\n",
              "    <path d=\"M0 0h24v24H0V0z\" fill=\"none\"/>\n",
              "    <path d=\"M18.56 5.44l.94 2.06.94-2.06 2.06-.94-2.06-.94-.94-2.06-.94 2.06-2.06.94zm-11 1L8.5 8.5l.94-2.06 2.06-.94-2.06-.94L8.5 2.5l-.94 2.06-2.06.94zm10 10l.94 2.06.94-2.06 2.06-.94-2.06-.94-.94-2.06-.94 2.06-2.06.94z\"/><path d=\"M17.41 7.96l-1.37-1.37c-.4-.4-.92-.59-1.43-.59-.52 0-1.04.2-1.43.59L10.3 9.45l-7.72 7.72c-.78.78-.78 2.05 0 2.83L4 21.41c.39.39.9.59 1.41.59.51 0 1.02-.2 1.41-.59l7.78-7.78 2.81-2.81c.8-.78.8-2.07 0-2.86zM5.41 20L4 18.59l7.72-7.72 1.47 1.35L5.41 20z\"/>\n",
              "  </svg>\n",
              "      </button>\n",
              "      \n",
              "  <style>\n",
              "    .colab-df-container {\n",
              "      display:flex;\n",
              "      flex-wrap:wrap;\n",
              "      gap: 12px;\n",
              "    }\n",
              "\n",
              "    .colab-df-convert {\n",
              "      background-color: #E8F0FE;\n",
              "      border: none;\n",
              "      border-radius: 50%;\n",
              "      cursor: pointer;\n",
              "      display: none;\n",
              "      fill: #1967D2;\n",
              "      height: 32px;\n",
              "      padding: 0 0 0 0;\n",
              "      width: 32px;\n",
              "    }\n",
              "\n",
              "    .colab-df-convert:hover {\n",
              "      background-color: #E2EBFA;\n",
              "      box-shadow: 0px 1px 2px rgba(60, 64, 67, 0.3), 0px 1px 3px 1px rgba(60, 64, 67, 0.15);\n",
              "      fill: #174EA6;\n",
              "    }\n",
              "\n",
              "    [theme=dark] .colab-df-convert {\n",
              "      background-color: #3B4455;\n",
              "      fill: #D2E3FC;\n",
              "    }\n",
              "\n",
              "    [theme=dark] .colab-df-convert:hover {\n",
              "      background-color: #434B5C;\n",
              "      box-shadow: 0px 1px 3px 1px rgba(0, 0, 0, 0.15);\n",
              "      filter: drop-shadow(0px 1px 2px rgba(0, 0, 0, 0.3));\n",
              "      fill: #FFFFFF;\n",
              "    }\n",
              "  </style>\n",
              "\n",
              "      <script>\n",
              "        const buttonEl =\n",
              "          document.querySelector('#df-e188f268-53b8-4fa8-86b4-222db7b99f8b button.colab-df-convert');\n",
              "        buttonEl.style.display =\n",
              "          google.colab.kernel.accessAllowed ? 'block' : 'none';\n",
              "\n",
              "        async function convertToInteractive(key) {\n",
              "          const element = document.querySelector('#df-e188f268-53b8-4fa8-86b4-222db7b99f8b');\n",
              "          const dataTable =\n",
              "            await google.colab.kernel.invokeFunction('convertToInteractive',\n",
              "                                                     [key], {});\n",
              "          if (!dataTable) return;\n",
              "\n",
              "          const docLinkHtml = 'Like what you see? Visit the ' +\n",
              "            '<a target=\"_blank\" href=https://colab.research.google.com/notebooks/data_table.ipynb>data table notebook</a>'\n",
              "            + ' to learn more about interactive tables.';\n",
              "          element.innerHTML = '';\n",
              "          dataTable['output_type'] = 'display_data';\n",
              "          await google.colab.output.renderOutput(dataTable, element);\n",
              "          const docLink = document.createElement('div');\n",
              "          docLink.innerHTML = docLinkHtml;\n",
              "          element.appendChild(docLink);\n",
              "        }\n",
              "      </script>\n",
              "    </div>\n",
              "  </div>\n",
              "  "
            ]
          },
          "metadata": {},
          "execution_count": 474
        }
      ]
    },
    {
      "cell_type": "code",
      "source": [
        "final_submission = joined.join(test, lsuffix='_l')[['id', 'sales']]\n",
        "final_submission"
      ],
      "metadata": {
        "colab": {
          "base_uri": "https://localhost:8080/",
          "height": 424
        },
        "id": "i8KRHnSzBVQg",
        "outputId": "54b6fe9c-ec9e-4ab4-ce88-779c26aa63b8"
      },
      "execution_count": null,
      "outputs": [
        {
          "output_type": "execute_result",
          "data": {
            "text/plain": [
              "            id        sales\n",
              "0      3000888     2.870229\n",
              "1      3000889     0.000000\n",
              "2      3000890     2.077184\n",
              "3      3000891  1362.569975\n",
              "4      3000892     0.000000\n",
              "...        ...          ...\n",
              "28507  3029395   493.628354\n",
              "28508  3029396    77.586248\n",
              "28509  3029397   677.812849\n",
              "28510  3029398     3.572519\n",
              "28511  3029399    16.562319\n",
              "\n",
              "[28512 rows x 2 columns]"
            ],
            "text/html": [
              "\n",
              "  <div id=\"df-50c2baf0-6af4-462d-8cd2-cb3c9fb55b88\">\n",
              "    <div class=\"colab-df-container\">\n",
              "      <div>\n",
              "<style scoped>\n",
              "    .dataframe tbody tr th:only-of-type {\n",
              "        vertical-align: middle;\n",
              "    }\n",
              "\n",
              "    .dataframe tbody tr th {\n",
              "        vertical-align: top;\n",
              "    }\n",
              "\n",
              "    .dataframe thead th {\n",
              "        text-align: right;\n",
              "    }\n",
              "</style>\n",
              "<table border=\"1\" class=\"dataframe\">\n",
              "  <thead>\n",
              "    <tr style=\"text-align: right;\">\n",
              "      <th></th>\n",
              "      <th>id</th>\n",
              "      <th>sales</th>\n",
              "    </tr>\n",
              "  </thead>\n",
              "  <tbody>\n",
              "    <tr>\n",
              "      <th>0</th>\n",
              "      <td>3000888</td>\n",
              "      <td>2.870229</td>\n",
              "    </tr>\n",
              "    <tr>\n",
              "      <th>1</th>\n",
              "      <td>3000889</td>\n",
              "      <td>0.000000</td>\n",
              "    </tr>\n",
              "    <tr>\n",
              "      <th>2</th>\n",
              "      <td>3000890</td>\n",
              "      <td>2.077184</td>\n",
              "    </tr>\n",
              "    <tr>\n",
              "      <th>3</th>\n",
              "      <td>3000891</td>\n",
              "      <td>1362.569975</td>\n",
              "    </tr>\n",
              "    <tr>\n",
              "      <th>4</th>\n",
              "      <td>3000892</td>\n",
              "      <td>0.000000</td>\n",
              "    </tr>\n",
              "    <tr>\n",
              "      <th>...</th>\n",
              "      <td>...</td>\n",
              "      <td>...</td>\n",
              "    </tr>\n",
              "    <tr>\n",
              "      <th>28507</th>\n",
              "      <td>3029395</td>\n",
              "      <td>493.628354</td>\n",
              "    </tr>\n",
              "    <tr>\n",
              "      <th>28508</th>\n",
              "      <td>3029396</td>\n",
              "      <td>77.586248</td>\n",
              "    </tr>\n",
              "    <tr>\n",
              "      <th>28509</th>\n",
              "      <td>3029397</td>\n",
              "      <td>677.812849</td>\n",
              "    </tr>\n",
              "    <tr>\n",
              "      <th>28510</th>\n",
              "      <td>3029398</td>\n",
              "      <td>3.572519</td>\n",
              "    </tr>\n",
              "    <tr>\n",
              "      <th>28511</th>\n",
              "      <td>3029399</td>\n",
              "      <td>16.562319</td>\n",
              "    </tr>\n",
              "  </tbody>\n",
              "</table>\n",
              "<p>28512 rows × 2 columns</p>\n",
              "</div>\n",
              "      <button class=\"colab-df-convert\" onclick=\"convertToInteractive('df-50c2baf0-6af4-462d-8cd2-cb3c9fb55b88')\"\n",
              "              title=\"Convert this dataframe to an interactive table.\"\n",
              "              style=\"display:none;\">\n",
              "        \n",
              "  <svg xmlns=\"http://www.w3.org/2000/svg\" height=\"24px\"viewBox=\"0 0 24 24\"\n",
              "       width=\"24px\">\n",
              "    <path d=\"M0 0h24v24H0V0z\" fill=\"none\"/>\n",
              "    <path d=\"M18.56 5.44l.94 2.06.94-2.06 2.06-.94-2.06-.94-.94-2.06-.94 2.06-2.06.94zm-11 1L8.5 8.5l.94-2.06 2.06-.94-2.06-.94L8.5 2.5l-.94 2.06-2.06.94zm10 10l.94 2.06.94-2.06 2.06-.94-2.06-.94-.94-2.06-.94 2.06-2.06.94z\"/><path d=\"M17.41 7.96l-1.37-1.37c-.4-.4-.92-.59-1.43-.59-.52 0-1.04.2-1.43.59L10.3 9.45l-7.72 7.72c-.78.78-.78 2.05 0 2.83L4 21.41c.39.39.9.59 1.41.59.51 0 1.02-.2 1.41-.59l7.78-7.78 2.81-2.81c.8-.78.8-2.07 0-2.86zM5.41 20L4 18.59l7.72-7.72 1.47 1.35L5.41 20z\"/>\n",
              "  </svg>\n",
              "      </button>\n",
              "      \n",
              "  <style>\n",
              "    .colab-df-container {\n",
              "      display:flex;\n",
              "      flex-wrap:wrap;\n",
              "      gap: 12px;\n",
              "    }\n",
              "\n",
              "    .colab-df-convert {\n",
              "      background-color: #E8F0FE;\n",
              "      border: none;\n",
              "      border-radius: 50%;\n",
              "      cursor: pointer;\n",
              "      display: none;\n",
              "      fill: #1967D2;\n",
              "      height: 32px;\n",
              "      padding: 0 0 0 0;\n",
              "      width: 32px;\n",
              "    }\n",
              "\n",
              "    .colab-df-convert:hover {\n",
              "      background-color: #E2EBFA;\n",
              "      box-shadow: 0px 1px 2px rgba(60, 64, 67, 0.3), 0px 1px 3px 1px rgba(60, 64, 67, 0.15);\n",
              "      fill: #174EA6;\n",
              "    }\n",
              "\n",
              "    [theme=dark] .colab-df-convert {\n",
              "      background-color: #3B4455;\n",
              "      fill: #D2E3FC;\n",
              "    }\n",
              "\n",
              "    [theme=dark] .colab-df-convert:hover {\n",
              "      background-color: #434B5C;\n",
              "      box-shadow: 0px 1px 3px 1px rgba(0, 0, 0, 0.15);\n",
              "      filter: drop-shadow(0px 1px 2px rgba(0, 0, 0, 0.3));\n",
              "      fill: #FFFFFF;\n",
              "    }\n",
              "  </style>\n",
              "\n",
              "      <script>\n",
              "        const buttonEl =\n",
              "          document.querySelector('#df-50c2baf0-6af4-462d-8cd2-cb3c9fb55b88 button.colab-df-convert');\n",
              "        buttonEl.style.display =\n",
              "          google.colab.kernel.accessAllowed ? 'block' : 'none';\n",
              "\n",
              "        async function convertToInteractive(key) {\n",
              "          const element = document.querySelector('#df-50c2baf0-6af4-462d-8cd2-cb3c9fb55b88');\n",
              "          const dataTable =\n",
              "            await google.colab.kernel.invokeFunction('convertToInteractive',\n",
              "                                                     [key], {});\n",
              "          if (!dataTable) return;\n",
              "\n",
              "          const docLinkHtml = 'Like what you see? Visit the ' +\n",
              "            '<a target=\"_blank\" href=https://colab.research.google.com/notebooks/data_table.ipynb>data table notebook</a>'\n",
              "            + ' to learn more about interactive tables.';\n",
              "          element.innerHTML = '';\n",
              "          dataTable['output_type'] = 'display_data';\n",
              "          await google.colab.output.renderOutput(dataTable, element);\n",
              "          const docLink = document.createElement('div');\n",
              "          docLink.innerHTML = docLinkHtml;\n",
              "          element.appendChild(docLink);\n",
              "        }\n",
              "      </script>\n",
              "    </div>\n",
              "  </div>\n",
              "  "
            ]
          },
          "metadata": {},
          "execution_count": 479
        }
      ]
    },
    {
      "cell_type": "code",
      "source": [
        "final_submission.to_csv('submission.csv', index=False)"
      ],
      "metadata": {
        "id": "UdM8JKFwBzCZ"
      },
      "execution_count": null,
      "outputs": []
    }
  ]
}